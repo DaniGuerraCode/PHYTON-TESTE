{
 "cells": [
  {
   "cell_type": "code",
   "execution_count": 2,
   "id": "92ecc96e",
   "metadata": {},
   "outputs": [
    {
     "name": "stdout",
     "output_type": "stream",
     "text": [
      "Requirement already satisfied: pyautogui in c:\\users\\brspdoa\\anaconda3\\lib\\site-packages (0.9.53)\n",
      "Requirement already satisfied: mouseinfo in c:\\users\\brspdoa\\anaconda3\\lib\\site-packages (from pyautogui) (0.1.3)\n",
      "Requirement already satisfied: PyTweening>=1.0.1 in c:\\users\\brspdoa\\anaconda3\\lib\\site-packages (from pyautogui) (1.0.4)\n",
      "Requirement already satisfied: pyscreeze>=0.1.21 in c:\\users\\brspdoa\\anaconda3\\lib\\site-packages (from pyautogui) (0.1.28)\n",
      "Requirement already satisfied: pymsgbox in c:\\users\\brspdoa\\anaconda3\\lib\\site-packages (from pyautogui) (1.0.9)\n",
      "Requirement already satisfied: pygetwindow>=0.0.5 in c:\\users\\brspdoa\\anaconda3\\lib\\site-packages (from pyautogui) (0.0.9)\n",
      "Requirement already satisfied: pyrect in c:\\users\\brspdoa\\anaconda3\\lib\\site-packages (from pygetwindow>=0.0.5->pyautogui) (0.1.4)\n",
      "Requirement already satisfied: pyperclip in c:\\users\\brspdoa\\anaconda3\\lib\\site-packages (from mouseinfo->pyautogui) (1.8.2)\n",
      "Requirement already satisfied: pyperclip in c:\\users\\brspdoa\\anaconda3\\lib\\site-packages (1.8.2)\n"
     ]
    }
   ],
   "source": [
    "!pip install pyautogui\n",
    "!pip install pyperclip\n"
   ]
  },
  {
   "cell_type": "code",
   "execution_count": 3,
   "id": "54ed5e7c",
   "metadata": {},
   "outputs": [],
   "source": [
    "import pyautogui\n",
    "import time\n",
    "import pyperclip\n",
    "import datetime\n"
   ]
  },
  {
   "cell_type": "code",
   "execution_count": 7,
   "id": "0062549d",
   "metadata": {},
   "outputs": [
    {
     "ename": "KeyboardInterrupt",
     "evalue": "",
     "output_type": "error",
     "traceback": [
      "\u001b[1;31m---------------------------------------------------------------------------\u001b[0m",
      "\u001b[1;31mKeyboardInterrupt\u001b[0m                         Traceback (most recent call last)",
      "\u001b[1;32m~\\AppData\\Local\\Temp/ipykernel_12048/991040432.py\u001b[0m in \u001b[0;36m<module>\u001b[1;34m\u001b[0m\n\u001b[0;32m      1\u001b[0m \u001b[0mpyautogui\u001b[0m\u001b[1;33m.\u001b[0m\u001b[0mpause\u001b[0m\u001b[1;33m=\u001b[0m \u001b[1;36m2\u001b[0m\u001b[1;33m\u001b[0m\u001b[1;33m\u001b[0m\u001b[0m\n\u001b[1;32m----> 2\u001b[1;33m \u001b[0mtime\u001b[0m\u001b[1;33m.\u001b[0m\u001b[0msleep\u001b[0m\u001b[1;33m(\u001b[0m\u001b[1;36m3\u001b[0m\u001b[1;33m)\u001b[0m\u001b[1;33m\u001b[0m\u001b[1;33m\u001b[0m\u001b[0m\n\u001b[0m\u001b[0;32m      3\u001b[0m \u001b[0mpyautogui\u001b[0m\u001b[1;33m.\u001b[0m\u001b[0mpress\u001b[0m\u001b[1;33m(\u001b[0m\u001b[1;34m\"win\"\u001b[0m\u001b[1;33m)\u001b[0m\u001b[1;33m\u001b[0m\u001b[1;33m\u001b[0m\u001b[0m\n\u001b[0;32m      4\u001b[0m \u001b[0mpyperclip\u001b[0m\u001b[1;33m.\u001b[0m\u001b[0mcopy\u001b[0m\u001b[1;33m(\u001b[0m\u001b[1;34m\"outlook\"\u001b[0m\u001b[1;33m)\u001b[0m\u001b[1;33m\u001b[0m\u001b[1;33m\u001b[0m\u001b[0m\n\u001b[0;32m      5\u001b[0m \u001b[0mpyautogui\u001b[0m\u001b[1;33m.\u001b[0m\u001b[0mhotkey\u001b[0m\u001b[1;33m(\u001b[0m\u001b[1;34m\"ctrl\"\u001b[0m \u001b[1;33m,\u001b[0m \u001b[1;34m\"v\"\u001b[0m\u001b[1;33m)\u001b[0m\u001b[1;33m\u001b[0m\u001b[1;33m\u001b[0m\u001b[0m\n",
      "\u001b[1;31mKeyboardInterrupt\u001b[0m: "
     ]
    }
   ],
   "source": [
    "pyautogui.pause= 2\n",
    "time.sleep(3)\n",
    "pyautogui.press(\"win\")\n",
    "pyperclip.copy(\"outlook\")\n",
    "pyautogui.hotkey(\"ctrl\" , \"v\")\n",
    "pyautogui.hotkey(\"enter\")\n",
    "\n",
    "time.sleep(10)\n",
    "pyautogui.press(\"win\")\n",
    "pyperclip.copy(r\"N:\\09 OIE\\1 - IMPORTAÇÃO\\01 - BACKLOG IMPORTACAO\\02 - Backlog - IMP\\11 - 2022\\03 - MARÇO\")\n",
    "pyautogui.hotkey(\"ctrl\" , \"v\")\n",
    "pyautogui.hotkey(\"enter\")\n",
    "\n",
    "time.sleep(2)\n",
    "pyautogui.click(x=1180, y=159)\n",
    "data=datetime.datetime.now()\n",
    "print(str(data.day-1) + \"_\" + str(data.month) + \"_\" + str(data.year))\n",
    "pyperclip.copy(str(data.day-1) + \"_\" + str(data.month) + \"_\" + str(data.year))\n",
    "pyautogui.hotkey(\"ctrl\" , \"v\")\n",
    "pyautogui.hotkey(\"enter\")\n",
    "time.sleep(10)\n",
    "pyautogui.hotkey(\"tab\")\n",
    "pyautogui.hotkey(\"tab\")\n",
    "time.sleep(2)\n",
    "pyautogui.hotkey(\"space\")\n",
    "pyautogui.hotkey(\"enter\")\n",
    "\n",
    "time.sleep(55)\n",
    "pyautogui.hotkey(\"enter\")\n",
    "pyautogui.click(x=95, y=329)\n",
    "time.sleep(6)\n",
    "pyautogui.click(x=1013, y=45)\n",
    "pyautogui.click(x=258, y=74)\n",
    "pyautogui.click(x=473, y=184)\n",
    "time.sleep(4)\n",
    "pyperclip.copy(r\"BACKLOG - IMP novo at\")\n",
    "pyautogui.hotkey(\"ctrl\" , \"v\")\n",
    "pyautogui.hotkey(\"tab\")\n",
    "pyautogui.hotkey(\"enter\")\n",
    "pyautogui.hotkey(\"tab\")\n",
    "pyautogui.hotkey(\"tab\")\n",
    "pyautogui.hotkey(\"tab\")\n",
    "pyautogui.hotkey(\"enter\")\n",
    "\n",
    "time.sleep(4)\n",
    "pyautogui.click(x=238, y=108)\n",
    "pyperclip.copy(\"VOLDEMORT\")\n",
    "pyautogui.hotkey(\"ctrl\" , \"v\")\n",
    "pyautogui.hotkey(\"enter\")\n",
    "\n",
    "\n",
    "time.sleep(45)\n",
    "pyautogui.click(x=812, y=688)\n",
    "pyautogui.click(x=224, y=331)\n",
    "\n",
    "time.sleep(45)\n",
    "pyautogui.hotkey(\"enter\")\n",
    "\n",
    "pyautogui.click(x=116, y=387)\n",
    "time.sleep(180)\n",
    "pyautogui.hotkey(\"enter\")\n",
    "\n",
    "pyautogui.hotkey(\"f12\")\n",
    "\n",
    "#como salvar com data?\n",
    "data=datetime.datetime.now()\n",
    "print(str(data.day) + \"_\" + str(data.month) + \"_\" + str(data.year))\n",
    "pyperclip.copy(str(data.day) + \"_\" + str(data.month) + \"_\" + str(data.year))\n",
    "pyautogui.hotkey(\"ctrl\" , \"v\")\n",
    "pyautogui.hotkey(\"enter\")\n"
   ]
  },
  {
   "cell_type": "markdown",
   "id": "64674364",
   "metadata": {},
   "source": [
    "LOCALIZAÇÃO MOUSE\n"
   ]
  },
  {
   "cell_type": "code",
   "execution_count": 45,
   "id": "11264f05",
   "metadata": {},
   "outputs": [],
   "source": [
    "time.sleep(5)\n",
    "pyautogui.position()"
   ]
  },
  {
   "cell_type": "markdown",
   "id": "f6d979ca",
   "metadata": {},
   "source": [
    "DATA DE ONTEM"
   ]
  },
  {
   "cell_type": "code",
   "execution_count": 4,
   "id": "2748348b",
   "metadata": {},
   "outputs": [
    {
     "name": "stdout",
     "output_type": "stream",
     "text": [
      "13_3_2022\n"
     ]
    }
   ],
   "source": [
    "data=datetime.datetime.now() \n",
    "print(str(data.day-1) + \"_\" + str(data.month) + \"_\" + str(data.year))"
   ]
  },
  {
   "cell_type": "code",
   "execution_count": null,
   "id": "41ee78bd",
   "metadata": {},
   "outputs": [],
   "source": [
    "DATA DE HOJE"
   ]
  },
  {
   "cell_type": "code",
   "execution_count": 5,
   "id": "9b20a386",
   "metadata": {},
   "outputs": [
    {
     "name": "stdout",
     "output_type": "stream",
     "text": [
      "14_3_2022\n"
     ]
    }
   ],
   "source": [
    "data=datetime.datetime.now() \n",
    "print(str(data.day) + \"_\" + str(data.month) + \"_\" + str(data.year))\n"
   ]
  },
  {
   "cell_type": "code",
   "execution_count": null,
   "id": "e64e2b68",
   "metadata": {},
   "outputs": [],
   "source": [
    "DIA DA SEMANA"
   ]
  },
  {
   "cell_type": "code",
   "execution_count": 6,
   "id": "d6b8bc3b",
   "metadata": {},
   "outputs": [
    {
     "name": "stdout",
     "output_type": "stream",
     "text": [
      "Monday\n"
     ]
    }
   ],
   "source": [
    "data=datetime.datetime.now() \n",
    "print(data.strftime(\"%A\"))"
   ]
  },
  {
   "cell_type": "code",
   "execution_count": null,
   "id": "ca97351f",
   "metadata": {},
   "outputs": [],
   "source": []
  }
 ],
 "metadata": {
  "kernelspec": {
   "display_name": "Python 3 (ipykernel)",
   "language": "python",
   "name": "python3"
  },
  "language_info": {
   "codemirror_mode": {
    "name": "ipython",
    "version": 3
   },
   "file_extension": ".py",
   "mimetype": "text/x-python",
   "name": "python",
   "nbconvert_exporter": "python",
   "pygments_lexer": "ipython3",
   "version": "3.9.7"
  }
 },
 "nbformat": 4,
 "nbformat_minor": 5
}
